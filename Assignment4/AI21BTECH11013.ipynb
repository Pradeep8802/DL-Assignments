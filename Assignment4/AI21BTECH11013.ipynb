{
 "cells": [
  {
   "cell_type": "markdown",
   "id": "2e66d222",
   "metadata": {},
   "source": [
    "# Assignment 4"
   ]
  },
  {
   "cell_type": "markdown",
   "id": "3e055e75",
   "metadata": {},
   "source": [
    "**Name: I.SAI PRADEEP \\\n",
    "ROLL NO.: AI21BTECH11013**"
   ]
  },
  {
   "cell_type": "markdown",
   "id": "8e9dd7d3",
   "metadata": {},
   "source": [
    "**Importing required libraries**"
   ]
  },
  {
   "cell_type": "code",
   "execution_count": 1,
   "id": "d33246b7",
   "metadata": {},
   "outputs": [
    {
     "name": "stderr",
     "output_type": "stream",
     "text": [
      "C:\\Users\\Dell\\AppData\\Local\\Programs\\Python\\Python310\\lib\\site-packages\\tqdm\\auto.py:22: TqdmWarning: IProgress not found. Please update jupyter and ipywidgets. See https://ipywidgets.readthedocs.io/en/stable/user_install.html\n",
      "  from .autonotebook import tqdm as notebook_tqdm\n"
     ]
    }
   ],
   "source": [
    "import numpy as np\n",
    "import matplotlib.pyplot as plt\n",
    "import torch\n",
    "import math as m\n",
    "import torch.optim as optim\n",
    "from torch import nn"
   ]
  },
  {
   "cell_type": "markdown",
   "id": "ee78019f",
   "metadata": {},
   "source": [
    "**A function which plots the points array on Y axis, with x axis points as integers in [0,no_of_epochs]** "
   ]
  },
  {
   "cell_type": "code",
   "execution_count": 2,
   "id": "6ba38414",
   "metadata": {
    "scrolled": false
   },
   "outputs": [],
   "source": [
    "\n",
    "def PlotIt(no_of_epochs,points,rnnNAME):\n",
    "    BaseLineLossY = BaseLineLoss * np.ones([no_of_epochs+1])\n",
    "    x_axis = np.arange(no_of_epochs+1)\n",
    "    y_axis = np.array(points)\n",
    "    plt.plot(x_axis,y_axis,label=f'Trained {rnnNAME} Model',color='red')\n",
    "    plt.plot(x_axis,BaseLineLossY,label='Baseline',color='blue')\n",
    "    plt.xlabel('Number of Iterations')\n",
    "    plt.ylabel('Mean loss after every iteration')\n",
    "    plt.legend()\n",
    "    plt.xticks(np.arange(no_of_epochs+1))\n",
    "    plt.show()"
   ]
  },
  {
   "cell_type": "markdown",
   "id": "dfb8e3a3",
   "metadata": {},
   "source": [
    "**Dataset creation for training and testing of RNN's**"
   ]
  },
  {
   "cell_type": "code",
   "execution_count": 3,
   "id": "95641990",
   "metadata": {},
   "outputs": [],
   "source": [
    "# min -> minimum size of any data in the dataset\n",
    "global min\n",
    "min = 2\n",
    "\n",
    "# max -> maximum size of any data in the dataset\n",
    "global max\n",
    "max = 9\n",
    "\n",
    "# Data set creation\n",
    "def DataSetCreation(min,max):\n",
    "    size = np.random.randint(min+1,max)\n",
    "    x = np.zeros(shape=(size, 2))\n",
    "    point1 = np.random.randint(1,size-1)\n",
    "    point2 = np.random.randint(point1+1,size)\n",
    "    x[point1-1][1] = 1\n",
    "    x[point2-1][1] = 1\n",
    "    for i in range(size):\n",
    "            x[i][0] = np.random.random()\n",
    "    y = x[point1-1][0] + x[point2-1][0]\n",
    "    return x,y,size\n"
   ]
  },
  {
   "cell_type": "markdown",
   "id": "527344ed",
   "metadata": {},
   "source": [
    "# ELMAN RNN"
   ]
  },
  {
   "cell_type": "markdown",
   "id": "4d15a90b",
   "metadata": {},
   "source": [
    "*Dataset creation*"
   ]
  },
  {
   "cell_type": "code",
   "execution_count": 4,
   "id": "740bc7ee",
   "metadata": {},
   "outputs": [],
   "source": [
    "# We are generation 6000 points\n",
    "global N\n",
    "N = 6000\n",
    "\n",
    "# X -> Array of the random points which are between 0 and 1\n",
    "X = []\n",
    "# Y -> Array containing all 0's except in 2 places, where it contains 1's\n",
    "Y = np.empty(shape=(N,1))\n",
    "for i in range(0,N):\n",
    "    x1,y1,size = DataSetCreation(2,9)\n",
    "    X.append(x1)\n",
    "    Y[i] = y1\n",
    "Y = torch.from_numpy(Y)"
   ]
  },
  {
   "cell_type": "markdown",
   "id": "d0b67120",
   "metadata": {},
   "source": [
    "**BaseLine**"
   ]
  },
  {
   "cell_type": "code",
   "execution_count": 5,
   "id": "77e10076",
   "metadata": {},
   "outputs": [
    {
     "name": "stdout",
     "output_type": "stream",
     "text": [
      "Loss for the BaseLine case is 0.17164957607927023\n"
     ]
    }
   ],
   "source": [
    "\n",
    "Z1=torch.ones(N, 1)\n",
    "Loss = nn.MSELoss()\n",
    "Z2 = Y\n",
    "global BaseLineLoss\n",
    "BaseLineLoss =Loss(Z1,Z2)\n",
    "print(f\"Loss for the BaseLine case is {BaseLineLoss}\")"
   ]
  },
  {
   "cell_type": "markdown",
   "id": "c20ef2ac",
   "metadata": {},
   "source": [
    "**TRAINING**"
   ]
  },
  {
   "cell_type": "markdown",
   "id": "ac88967f",
   "metadata": {},
   "source": [
    "*Forward pass of Elman RNN*"
   ]
  },
  {
   "cell_type": "code",
   "execution_count": 6,
   "id": "b17fd362",
   "metadata": {},
   "outputs": [],
   "source": [
    "def ElmonRNN(X,y,size,Hsize,WXH,WHH,B,V,B2):\n",
    "    lenOfInput=X.shape[0]\n",
    "    H=torch.zeros((Hsize,1))\n",
    "    for i in range(lenOfInput):\n",
    "        a=torch.matmul(WXH,torch.FloatTensor(X[i])).reshape(3,1)\n",
    "        H=torch.tanh(a+torch.matmul(WHH,H)+B)\n",
    "    predLabel=torch.relu(torch.matmul(V,H)[0][0]+B2)\n",
    "    loss=(predLabel-y)*(predLabel-y)\n",
    "    return loss"
   ]
  },
  {
   "cell_type": "markdown",
   "id": "84dc906e",
   "metadata": {},
   "source": [
    "*Parameters for backpropagation of Elman RNN*"
   ]
  },
  {
   "cell_type": "code",
   "execution_count": 7,
   "id": "d6f52613",
   "metadata": {},
   "outputs": [],
   "source": [
    "# Parameters for BackPropagation in Elman RNN\n",
    "WXH=torch.rand((3,2),requires_grad=True)\n",
    "WHH=torch.rand((3,3),requires_grad=True)\n",
    "B=torch.zeros((3,1),requires_grad=True)\n",
    "V=torch.rand((1,3),requires_grad=True)\n",
    "B2=torch.zeros((1,1),requires_grad=True)\n",
    "# params -> a list of parameters we are using for Elman RNN backpropagation \n",
    "params=[WXH,WHH,B,V,B2]"
   ]
  },
  {
   "cell_type": "markdown",
   "id": "66d23cb3",
   "metadata": {},
   "source": [
    "*Back Propagation for Elman RNN*"
   ]
  },
  {
   "cell_type": "code",
   "execution_count": 8,
   "id": "9abc588c",
   "metadata": {},
   "outputs": [
    {
     "name": "stdout",
     "output_type": "stream",
     "text": [
      "Initially, Loss is [tensor([[1.1692]], dtype=torch.float64)]\n",
      "At Epoch 1, the total training dataset loss is tensor([[0.0847]], dtype=torch.float64)\n",
      "At Epoch 2, the total training dataset loss is tensor([[0.0366]], dtype=torch.float64)\n",
      "At Epoch 3, the total training dataset loss is tensor([[0.0307]], dtype=torch.float64)\n",
      "At Epoch 4, the total training dataset loss is tensor([[0.0275]], dtype=torch.float64)\n",
      "At Epoch 5, the total training dataset loss is tensor([[0.0265]], dtype=torch.float64)\n",
      "At Epoch 6, the total training dataset loss is tensor([[0.0264]], dtype=torch.float64)\n",
      "At Epoch 7, the total training dataset loss is tensor([[0.0261]], dtype=torch.float64)\n",
      "At Epoch 8, the total training dataset loss is tensor([[0.0257]], dtype=torch.float64)\n",
      "At Epoch 9, the total training dataset loss is tensor([[0.0256]], dtype=torch.float64)\n",
      "At Epoch 10, the total training dataset loss is tensor([[0.0256]], dtype=torch.float64)\n",
      "At Epoch 11, the total training dataset loss is tensor([[0.0256]], dtype=torch.float64)\n",
      "At Epoch 12, the total training dataset loss is tensor([[0.0257]], dtype=torch.float64)\n",
      "At Epoch 13, the total training dataset loss is tensor([[0.0259]], dtype=torch.float64)\n",
      "At Epoch 14, the total training dataset loss is tensor([[0.0254]], dtype=torch.float64)\n",
      "At Epoch 15, the total training dataset loss is tensor([[0.0255]], dtype=torch.float64)\n"
     ]
    }
   ],
   "source": [
    "no_of_epochs=15\n",
    "ElmanLoss=[]\n",
    "# Optimizer fopr SGD Back Prop\n",
    "optimizer = optim.SGD(params, lr=0.05)\n",
    "z=0\n",
    "for i in range(0,N):\n",
    "        loss =ElmonRNN(X[i],Y[i],X[i].shape,3,WXH,WHH,B,V,B2)\n",
    "        z+=loss.detach()\n",
    "# adding initial loss to the array ElmanLoss\n",
    "ElmanLoss.append(z/N)\n",
    "print(f'Initially, Loss is {ElmanLoss}')\n",
    "\n",
    "# SGD iterations\n",
    "for j in range(no_of_epochs):\n",
    "    loss = 0\n",
    "    z=0\n",
    "    for i in range(0,N):\n",
    "        loss =ElmonRNN(X[i],Y[i],X[i].shape,3,WXH,WHH,B,V,B2)    \n",
    "        optimizer.zero_grad()\n",
    "        loss.backward()\n",
    "        optimizer.step()\n",
    "        z+=loss.detach()\n",
    "    z=z/N\n",
    "    ElmanLoss.append(z/N)\n",
    "    print(f\"At Epoch {j+1}, the total training dataset loss is {z}\")\n",
    "    "
   ]
  },
  {
   "cell_type": "markdown",
   "id": "8dd16db0",
   "metadata": {},
   "source": [
    "*Comparing loss with BaseLine for training*"
   ]
  },
  {
   "cell_type": "code",
   "execution_count": 9,
   "id": "f45fa8ce",
   "metadata": {},
   "outputs": [
    {
     "name": "stderr",
     "output_type": "stream",
     "text": [
      "C:\\Users\\Dell\\AppData\\Local\\Temp\\ipykernel_15608\\1766000109.py:4: FutureWarning: The input object of type 'Tensor' is an array-like implementing one of the corresponding protocols (`__array__`, `__array_interface__` or `__array_struct__`); but not a sequence (or 0-D). In the future, this object will be coerced as if it was first converted using `np.array(obj)`. To retain the old behaviour, you have to either modify the type 'Tensor', or assign to an empty array created with `np.empty(correct_shape, dtype=object)`.\n",
      "  y_axis = np.array(points)\n",
      "C:\\Users\\Dell\\AppData\\Local\\Temp\\ipykernel_15608\\1766000109.py:4: VisibleDeprecationWarning: Creating an ndarray from ragged nested sequences (which is a list-or-tuple of lists-or-tuples-or ndarrays with different lengths or shapes) is deprecated. If you meant to do this, you must specify 'dtype=object' when creating the ndarray.\n",
      "  y_axis = np.array(points)\n"
     ]
    },
    {
     "data": {
      "image/png": "[encoded data removed]",
      "text/plain": [
       "<Figure size 640x480 with 1 Axes>"
      ]
     },
     "metadata": {},
     "output_type": "display_data"
    }
   ],
   "source": [
    "PlotIt(no_of_epochs,ElmanLoss,'ELMAN')"
   ]
  },
  {
   "cell_type": "markdown",
   "id": "5bc7dc54",
   "metadata": {},
   "source": [
    "**TESTING**"
   ]
  },
  {
   "cell_type": "code",
   "execution_count": 10,
   "id": "6ee8615d",
   "metadata": {},
   "outputs": [
    {
     "name": "stdout",
     "output_type": "stream",
     "text": [
      "Testing loss for Elman RNN is 0.02247795855350368\n"
     ]
    }
   ],
   "source": [
    "\n",
    "# N_test -> Number of points for training\n",
    "N_test=4000\n",
    "X_test=[]\n",
    "Y_test=np.empty(shape=(N_test,1))\n",
    "for i in range(0,N_test):\n",
    "    x1,y1,size=DataSetCreation(2,9)\n",
    "    X_test.append(x1)\n",
    "    Y_test[i]=y1\n",
    "# Y_test -> Predicted values \n",
    "Y_test=torch.from_numpy(Y_test)\n",
    "\n",
    "\n",
    "z_test=0\n",
    "for i in range(0,N_test):\n",
    "    loss =ElmonRNN(X_test[i],Y_test[i],X_test[i].shape,3,WXH,WHH,B,V,B2)\n",
    "    z_test+=loss.detach()\n",
    "\n",
    "print(f\"Testing loss for Elman RNN is {z_test[0][0]/N_test}\")\n",
    "    "
   ]
  },
  {
   "cell_type": "markdown",
   "id": "501c826a",
   "metadata": {},
   "source": [
    "# LSTM RNN"
   ]
  },
  {
   "cell_type": "code",
   "execution_count": 11,
   "id": "64f10742",
   "metadata": {},
   "outputs": [],
   "source": [
    "def ForgetGate(WHH,WXH,B,H,X):\n",
    "    z=torch.matmul(WXH,X).reshape(3,1)+torch.matmul(WHH,H).reshape(3,1)+B\n",
    "    return torch.sigmoid(z)\n",
    "\n",
    "def InputGate(WHH,WXH,B,H,X):\n",
    "    z=torch.matmul(WXH,X).reshape(3,1)+torch.matmul(WHH,H).reshape(3,1)+B\n",
    "    return torch.sigmoid(z)\n",
    "\n",
    "def C_hat(WHH,WXH,B,H,X):\n",
    "    z=torch.matmul(WXH,X).reshape(3,1)+torch.matmul(WHH,H).reshape(3,1)+B\n",
    "    return torch.tanh(z)\n",
    "\n",
    "def OutputGate(WHH,WXH,B,H,X):\n",
    "    z=torch.matmul(WXH,X).reshape(3,1)+torch.matmul(WHH,H).reshape(3,1)+B\n",
    "    return torch.sigmoid(z)"
   ]
  },
  {
   "cell_type": "code",
   "execution_count": 12,
   "id": "e6916fe9",
   "metadata": {},
   "outputs": [],
   "source": [
    "def ElementWiseMul(A,B,size):\n",
    "    return torch.mul(A,B)\n",
    "    \n",
    "def LSTMForward(X,y,size,Hsize,WXH_f,WHH_f,B_f,WXH_i,WHH_i,B_i,WXH_o,WHH_o,B_o,WXH_c,WHH_c,B_c,V,B2):\n",
    "    lenOfInput=X.shape[0]\n",
    "    H = torch.zeros((Hsize,1))\n",
    "    C_t = torch.zeros((Hsize,1))\n",
    "    for i in range(lenOfInput):\n",
    "        f_t = ForgetGate(WHH_f,WXH_f,B_f,H,torch.FloatTensor(X[i]))\n",
    "        i_t = InputGate(WHH_i,WXH_i,B_i,H,torch.FloatTensor(X[i]))\n",
    "        C_t_hat = C_hat(WHH_c,WXH_c,B_c,H,torch.FloatTensor(X[i]))\n",
    "        C_t = ElementWiseMul(f_t,C_t,Hsize)+ElementWiseMul(i_t,C_t_hat,Hsize)\n",
    "        o_t = OutputGate(WHH_c,WXH_c,B_c,H,torch.FloatTensor(X[i]))\n",
    "        H = ElementWiseMul(o_t,torch.tanh(C_t),Hsize)\n",
    "    predLabel = torch.relu(torch.matmul(V,H)[0][0]+B2)\n",
    "    loss = (predLabel-y)*(predLabel-y)\n",
    "    return loss"
   ]
  },
  {
   "cell_type": "code",
   "execution_count": 13,
   "id": "e1e15266",
   "metadata": {},
   "outputs": [
    {
     "name": "stdout",
     "output_type": "stream",
     "text": [
      "Initially, Loss is [tensor([[0.6060]], dtype=torch.float64)]\n",
      "At Epoch 1, the total training dataset loss is tensor([[0.0891]], dtype=torch.float64)\n",
      "At Epoch 2, the total training dataset loss is tensor([[0.0303]], dtype=torch.float64)\n",
      "At Epoch 3, the total training dataset loss is tensor([[0.0110]], dtype=torch.float64)\n",
      "At Epoch 4, the total training dataset loss is tensor([[0.0052]], dtype=torch.float64)\n",
      "At Epoch 5, the total training dataset loss is tensor([[0.0028]], dtype=torch.float64)\n",
      "At Epoch 6, the total training dataset loss is tensor([[0.0018]], dtype=torch.float64)\n",
      "At Epoch 7, the total training dataset loss is tensor([[0.0015]], dtype=torch.float64)\n",
      "At Epoch 8, the total training dataset loss is tensor([[0.0013]], dtype=torch.float64)\n",
      "At Epoch 9, the total training dataset loss is tensor([[0.0012]], dtype=torch.float64)\n",
      "At Epoch 10, the total training dataset loss is tensor([[0.0011]], dtype=torch.float64)\n"
     ]
    }
   ],
   "source": [
    "no_of_epochs = 10\n",
    "\n",
    "Hsize=3\n",
    "\n",
    "# forget gate params\n",
    "WXH_f=torch.rand((Hsize,2),requires_grad=True)\n",
    "WHH_f=torch.rand((Hsize,Hsize),requires_grad=True)\n",
    "B_f=torch.zeros((Hsize,1),requires_grad=True)\n",
    "\n",
    "\n",
    "# input gate params\n",
    "WXH_i=torch.rand((Hsize,2),requires_grad=True)\n",
    "WHH_i=torch.rand((Hsize,Hsize),requires_grad=True)\n",
    "B_i=torch.zeros((Hsize,1),requires_grad=True)\n",
    "\n",
    "\n",
    "# output gate params\n",
    "WXH_o=torch.rand((Hsize,2),requires_grad=True)\n",
    "WHH_o=torch.rand((Hsize,Hsize),requires_grad=True)\n",
    "B_o=torch.zeros((Hsize,1),requires_grad=True)\n",
    "\n",
    "\n",
    "# c hat params\n",
    "WXH_c=torch.rand((Hsize,2),requires_grad=True)\n",
    "WHH_c=torch.rand((Hsize,Hsize),requires_grad=True)\n",
    "B_c=torch.zeros((Hsize,1),requires_grad=True)\n",
    "\n",
    "# final params\n",
    "V=torch.rand((1,Hsize),requires_grad=True)\n",
    "B2=torch.zeros((1,1),requires_grad=True)\n",
    "\n",
    "\n",
    "paramsLSTM=[WXH_f,WHH_f,B_f, WXH_i,WHH_i,B_i,WXH_o,WHH_o,B_o,WXH_c,WHH_c,B_c,V,B2]\n",
    "optimizerLSTM = optim.SGD(paramsLSTM, lr=0.01)\n",
    "\n",
    "LSTMLoss=[]\n",
    "for i in range(0,N):\n",
    "        loss =LSTMForward(X[i],Y[i],X[i].shape,3,WXH_f,WHH_f,B_f, WXH_i,WHH_i,B_i,WXH_o,WHH_o,B_o,WXH_c,WHH_c,B_c,V,B2)\n",
    "        z+=loss.detach()\n",
    "# adding initial loss to the array ElmanLoss\n",
    "LSTMLoss.append(z/N)\n",
    "print(f'Initially, Loss is {LSTMLoss}')\n",
    "\n",
    "for j in range(no_of_epochs):\n",
    "    loss1 = 0\n",
    "    z=0\n",
    "    for i in range(0,N):\n",
    "        loss1 =LSTMForward(X[i],Y[i],X[i].shape,3,WXH_f,WHH_f,B_f, WXH_i,WHH_i,B_i,WXH_o,WHH_o,B_o,WXH_c,WHH_c,B_c,V,B2)\n",
    "        optimizerLSTM.zero_grad()\n",
    "        loss1.backward()\n",
    "        optimizerLSTM.step()\n",
    "        z+=loss1.detach()\n",
    "    z=z/N\n",
    "    LSTMLoss.append(z)\n",
    "    print(f\"At Epoch {j+1}, the total training dataset loss is {z}\")\n"
   ]
  },
  {
   "cell_type": "markdown",
   "id": "829ee1fa",
   "metadata": {},
   "source": [
    "*Comparing loss with BaseLine*"
   ]
  },
  {
   "cell_type": "code",
   "execution_count": 14,
   "id": "e0662a00",
   "metadata": {},
   "outputs": [
    {
     "name": "stderr",
     "output_type": "stream",
     "text": [
      "C:\\Users\\Dell\\AppData\\Local\\Temp\\ipykernel_15608\\1766000109.py:4: FutureWarning: The input object of type 'Tensor' is an array-like implementing one of the corresponding protocols (`__array__`, `__array_interface__` or `__array_struct__`); but not a sequence (or 0-D). In the future, this object will be coerced as if it was first converted using `np.array(obj)`. To retain the old behaviour, you have to either modify the type 'Tensor', or assign to an empty array created with `np.empty(correct_shape, dtype=object)`.\n",
      "  y_axis = np.array(points)\n",
      "C:\\Users\\Dell\\AppData\\Local\\Temp\\ipykernel_15608\\1766000109.py:4: VisibleDeprecationWarning: Creating an ndarray from ragged nested sequences (which is a list-or-tuple of lists-or-tuples-or ndarrays with different lengths or shapes) is deprecated. If you meant to do this, you must specify 'dtype=object' when creating the ndarray.\n",
      "  y_axis = np.array(points)\n"
     ]
    },
    {
     "data": {
      "image/png": "[encoded data removed]",
      "text/plain": [
       "<Figure size 640x480 with 1 Axes>"
      ]
     },
     "metadata": {},
     "output_type": "display_data"
    }
   ],
   "source": [
    "PlotIt(no_of_epochs,LSTMLoss,'LSTM')"
   ]
  },
  {
   "cell_type": "markdown",
   "id": "d9a76f9e",
   "metadata": {},
   "source": [
    "**TESTING**"
   ]
  },
  {
   "cell_type": "code",
   "execution_count": 15,
   "id": "21d7b30a",
   "metadata": {},
   "outputs": [
    {
     "name": "stdout",
     "output_type": "stream",
     "text": [
      "Testing loss of LSTM is 0.0010039729046324502\n"
     ]
    }
   ],
   "source": [
    "\n",
    "N_test=2000\n",
    "X_test=[]\n",
    "Y_test=np.empty(shape=(N_test,1))\n",
    "for i in range(0,N_test):\n",
    "    x1,y1,size=DataSetCreation(2,9)\n",
    "    X_test.append(x1)\n",
    "    Y_test[i]=y1\n",
    "\n",
    "\n",
    "Y_test=torch.from_numpy(Y_test)\n",
    "\n",
    "\n",
    "z_test=0\n",
    "for i in range(0,N_test):\n",
    "    loss =LSTMForward(X[i],Y[i],X[i].shape,3,WXH_f,WHH_f,B_f, WXH_i,WHH_i,B_i,WXH_o,WHH_o,B_o,WXH_c,WHH_c,B_c,V,B2)\n",
    "    z_test+=loss.detach()\n",
    "\n",
    "print(f\"Testing loss of LSTM is {z_test[0][0]/N_test}\")\n",
    "    "
   ]
  },
  {
   "cell_type": "markdown",
   "id": "b3d068c4",
   "metadata": {},
   "source": [
    "**GRU RNN**"
   ]
  },
  {
   "cell_type": "code",
   "execution_count": 16,
   "id": "96afafc5",
   "metadata": {},
   "outputs": [],
   "source": [
    "def ResetGate(WHH,WXH,H,X):\n",
    "    z=torch.matmul(WXH,X).reshape(3,1)+torch.matmul(WHH,H).reshape(3,1)\n",
    "    return torch.sigmoid(z)\n",
    "\n",
    "def UpdateGate(WHH,WXH,H,X):\n",
    "    z=torch.matmul(WXH,X).reshape(3,1)+torch.matmul(WHH,H).reshape(3,1)\n",
    "    return torch.sigmoid(z)\n",
    "\n",
    "def H_hat(WHH,WXH,H,X):\n",
    "    z=torch.matmul(WXH,X).reshape(3,1)+torch.matmul(WHH,H).reshape(3,1)\n",
    "    return torch.tanh(z)\n",
    "\n",
    "def GRUForward(X,y,size,Hsize,WXH_z,WHH_z,WXH_r,WHH_r,WXH_o,WHH_o,V,B2):\n",
    "    len_=X.shape[0]\n",
    "    H=torch.zeros((Hsize,1))\n",
    "    for i in range(len_):\n",
    "        z_t=ResetGate(WHH_z,WXH_z,H,torch.FloatTensor(X[i]))\n",
    "        r_t=UpdateGate(WHH_i,WXH_i,H,torch.FloatTensor(X[i]))\n",
    "        H_t_hat=H_hat(WHH_o,WXH_o,ElementWiseMul(r_t,H,Hsize),torch.FloatTensor(X[i]))\n",
    "        H=H-ElementWiseMul(z_t,H,Hsize)+ElementWiseMul(z_t,H_t_hat,Hsize)\n",
    "    predLabel=torch.relu(torch.matmul(V,H)[0][0]+B2)\n",
    "    loss=(predLabel-y)*(predLabel-y)\n",
    "    return loss\n"
   ]
  },
  {
   "cell_type": "code",
   "execution_count": 17,
   "id": "a93a7300",
   "metadata": {},
   "outputs": [
    {
     "name": "stdout",
     "output_type": "stream",
     "text": [
      "Initially, Loss is [tensor([[0.1934]], dtype=torch.float64)]\n",
      "Epoch 1, Loss is tensor([[0.0514]], dtype=torch.float64)\n",
      "Epoch 2, Loss is tensor([[0.0126]], dtype=torch.float64)\n",
      "Epoch 3, Loss is tensor([[0.0110]], dtype=torch.float64)\n",
      "Epoch 4, Loss is tensor([[0.0103]], dtype=torch.float64)\n",
      "Epoch 5, Loss is tensor([[0.0099]], dtype=torch.float64)\n",
      "Epoch 6, Loss is tensor([[0.0095]], dtype=torch.float64)\n",
      "Epoch 7, Loss is tensor([[0.0093]], dtype=torch.float64)\n",
      "Epoch 8, Loss is tensor([[0.0090]], dtype=torch.float64)\n",
      "Epoch 9, Loss is tensor([[0.0088]], dtype=torch.float64)\n",
      "Epoch 10, Loss is tensor([[0.0086]], dtype=torch.float64)\n"
     ]
    }
   ],
   "source": [
    "no_of_epochs=10\n",
    "\n",
    "Hsize=3\n",
    "\n",
    "# forget gate params\n",
    "WXH_z=torch.rand((Hsize,2),requires_grad=True)\n",
    "WHH_z=torch.rand((Hsize,Hsize),requires_grad=True)\n",
    "\n",
    "\n",
    "# input gate params\n",
    "WXH_r=torch.rand((Hsize,2),requires_grad=True)\n",
    "WHH_r=torch.rand((Hsize,Hsize),requires_grad=True)\n",
    "\n",
    "# output gate params\n",
    "WXH_o=torch.rand((Hsize,2),requires_grad=True)\n",
    "WHH_o=torch.rand((Hsize,Hsize),requires_grad=True)\n",
    "\n",
    "# final params\n",
    "V=torch.rand((1,Hsize),requires_grad=True)\n",
    "B2=torch.zeros((1,1),requires_grad=True)\n",
    "\n",
    "\n",
    "paramsGRU=[WXH_f,WHH_f, WXH_i,WHH_i,WXH_o,WHH_o,V,B2]\n",
    "optimizerGRU = optim.SGD(paramsGRU, lr=0.05)\n",
    "\n",
    "GRULoss=[]\n",
    "for i in range(0,N):\n",
    "        loss = GRUForward(X[i],Y[i],X[i].shape,3,WXH_z,WHH_z,WXH_r,WHH_r,WXH_o,WHH_o,V,B2)\n",
    "        z+=loss.detach()\n",
    "# adding initial loss to the array ElmanLoss\n",
    "GRULoss.append(z/N)\n",
    "print(f'Initially, Loss is {GRULoss}')\n",
    "\n",
    "\n",
    "\n",
    "for j in range(no_of_epochs):\n",
    "    loss2 = 0\n",
    "    z=0\n",
    "    for i in range(0,N):\n",
    "        loss2 =GRUForward(X[i],Y[i],X[i].shape,3,WXH_z,WHH_z,WXH_r,WHH_r,WXH_o,WHH_o,V,B2)\n",
    "        optimizerGRU.zero_grad()\n",
    "        loss2.backward()\n",
    "        optimizerGRU.step()\n",
    "        z+=loss2.detach()\n",
    "    z=z/N\n",
    "    GRULoss.append(z)\n",
    "    print(f\"Epoch {j+1}, Loss is {z}\")"
   ]
  },
  {
   "cell_type": "markdown",
   "id": "01b711a7",
   "metadata": {},
   "source": [
    "*Comparing loss with BaseLine*"
   ]
  },
  {
   "cell_type": "code",
   "execution_count": 18,
   "id": "0e9484d0",
   "metadata": {},
   "outputs": [
    {
     "name": "stderr",
     "output_type": "stream",
     "text": [
      "C:\\Users\\Dell\\AppData\\Local\\Temp\\ipykernel_15608\\1766000109.py:4: FutureWarning: The input object of type 'Tensor' is an array-like implementing one of the corresponding protocols (`__array__`, `__array_interface__` or `__array_struct__`); but not a sequence (or 0-D). In the future, this object will be coerced as if it was first converted using `np.array(obj)`. To retain the old behaviour, you have to either modify the type 'Tensor', or assign to an empty array created with `np.empty(correct_shape, dtype=object)`.\n",
      "  y_axis = np.array(points)\n",
      "C:\\Users\\Dell\\AppData\\Local\\Temp\\ipykernel_15608\\1766000109.py:4: VisibleDeprecationWarning: Creating an ndarray from ragged nested sequences (which is a list-or-tuple of lists-or-tuples-or ndarrays with different lengths or shapes) is deprecated. If you meant to do this, you must specify 'dtype=object' when creating the ndarray.\n",
      "  y_axis = np.array(points)\n"
     ]
    },
    {
     "data": {
      "image/png": "[encoded data removed]",
      "text/plain": [
       "<Figure size 640x480 with 1 Axes>"
      ]
     },
     "metadata": {},
     "output_type": "display_data"
    }
   ],
   "source": [
    "PlotIt(no_of_epochs,GRULoss,'GRU')"
   ]
  },
  {
   "cell_type": "code",
   "execution_count": 19,
   "id": "f6fdaff8",
   "metadata": {},
   "outputs": [
    {
     "name": "stdout",
     "output_type": "stream",
     "text": [
      "Testing loss for GRU is 0.004894628859252344\n"
     ]
    }
   ],
   "source": [
    "#testing\n",
    "N_test=2000\n",
    "X_test=[]\n",
    "Y_test=np.empty(shape=(N_test,1))\n",
    "for i in range(0,N_test):\n",
    "    x1,y1,size=DataSetCreation(2,9)\n",
    "    X_test.append(x1)\n",
    "    Y_test[i]=y1\n",
    "\n",
    "\n",
    "Y_test=torch.from_numpy(Y_test)\n",
    "\n",
    "\n",
    "z_test=0\n",
    "for i in range(0,N_test):\n",
    "    loss=GRUForward(X[i],Y[i],X[i].shape,3,WXH_z,WHH_z,WXH_r,WHH_r,WXH_o,WHH_o,V,B2)\n",
    "    z_test+=loss.detach()\n",
    "\n",
    "print(f\"Testing loss for GRU is {z_test[0][0]/N_test}\")    "
   ]
  },
  {
   "cell_type": "code",
   "execution_count": 20,
   "id": "85357e88",
   "metadata": {},
   "outputs": [
    {
     "name": "stdout",
     "output_type": "stream",
     "text": [
      "Testing loss for GRU is 0.004894628859252344\n"
     ]
    }
   ],
   "source": [
    "\n",
    "print(f\"Testing loss for GRU is {z_test[0][0]/N_test}\")"
   ]
  },
  {
   "cell_type": "code",
   "execution_count": 21,
   "id": "29652c09",
   "metadata": {},
   "outputs": [],
   "source": [
    "def PlotIt(no_of_epochs,points,rnnNAME):\n",
    "    BaseLineLossY = BaseLineLoss * np.ones([no_of_epochs+1])\n",
    "    x_axis = np.arange(no_of_epochs+1)\n",
    "    y_axis = np.array(points)\n",
    "    plt.plot(x_axis,y_axis,label=f'Trained {rnnNAME} Model',color='red')\n",
    "    plt.plot(x_axis,BaseLineLossY,label='Baseline',color='blue')\n",
    "    plt.xlabel('Number of Iterations')\n",
    "    plt.ylabel('Mean loss after every iteration')\n",
    "    plt.legend()\n",
    "    plt.xticks(np.arange(no_of_epochs+1))\n",
    "    plt.show()"
   ]
  }
 ],
 "metadata": {
  "kernelspec": {
   "display_name": "Python 3 (ipykernel)",
   "language": "python",
   "name": "python3"
  },
  "language_info": {
   "codemirror_mode": {
    "name": "ipython",
    "version": 3
   },
   "file_extension": ".py",
   "mimetype": "text/x-python",
   "name": "python",
   "nbconvert_exporter": "python",
   "pygments_lexer": "ipython3",
   "version": "3.10.9"
  }
 },
 "nbformat": 4,
 "nbformat_minor": 5
}
